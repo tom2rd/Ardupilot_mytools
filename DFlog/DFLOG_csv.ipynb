{
  "nbformat": 4,
  "nbformat_minor": 0,
  "metadata": {
    "colab": {
      "provenance": []
    },
    "kernelspec": {
      "name": "python3",
      "display_name": "Python 3"
    },
    "language_info": {
      "name": "python"
    }
  },
  "cells": [
    {
      "cell_type": "markdown",
      "source": [
        "# pymavlink の mavdumplog.pyでData Flash LogをCSVに変換する"
      ],
      "metadata": {
        "id": "N_bnjV0K3wPL"
      }
    },
    {
      "cell_type": "code",
      "execution_count": null,
      "metadata": {
        "colab": {
          "base_uri": "https://localhost:8080/"
        },
        "id": "tDPXMqNZeT3l",
        "outputId": "92206bd5-6e0e-4ddc-c94e-05066532c12a"
      },
      "outputs": [
        {
          "output_type": "stream",
          "name": "stdout",
          "text": [
            "Collecting pymavlink\n",
            "  Downloading pymavlink-2.4.19.tar.gz (4.9 MB)\n",
            "\u001b[K     |████████████████████████████████| 4.9 MB 19.7 MB/s \n",
            "\u001b[?25hRequirement already satisfied: future in /usr/local/lib/python3.7/dist-packages (from pymavlink) (0.16.0)\n",
            "Requirement already satisfied: lxml in /usr/local/lib/python3.7/dist-packages (from pymavlink) (4.2.6)\n",
            "Building wheels for collected packages: pymavlink\n",
            "  Building wheel for pymavlink (setup.py) ... \u001b[?25l\u001b[?25hdone\n",
            "  Created wheel for pymavlink: filename=pymavlink-2.4.19-cp37-cp37m-linux_x86_64.whl size=5051295 sha256=4b0c09304eec57aa4745a987e511977a41c8fc2bc14fab6067405c8d0d912a55\n",
            "  Stored in directory: /root/.cache/pip/wheels/71/90/83/8a96b74a7cb1e16edeca055ef1deb2404f015f132f665d3c80\n",
            "Successfully built pymavlink\n",
            "Installing collected packages: pymavlink\n",
            "Successfully installed pymavlink-2.4.19\n"
          ]
        }
      ],
      "source": [
        "! pip3 install pymavlink"
      ]
    },
    {
      "cell_type": "code",
      "source": [
        "from google.colab import drive\n",
        "drive.mount('/content/drive')"
      ],
      "metadata": {
        "colab": {
          "base_uri": "https://localhost:8080/"
        },
        "id": "sKaEEDPFedPQ",
        "outputId": "8066330d-2166-4a1e-e525-2868f0d4d264"
      },
      "execution_count": null,
      "outputs": [
        {
          "output_type": "stream",
          "name": "stdout",
          "text": [
            "Mounted at /content/drive\n"
          ]
        }
      ]
    },
    {
      "cell_type": "code",
      "source": [
        "import pandas as pd\n",
        "import os\n",
        "import glob\n",
        "%matplotlib inline\n",
        "import matplotlib as mpl\n",
        "import matplotlib.pyplot as plt"
      ],
      "metadata": {
        "id": "ADUFl9Gsftol"
      },
      "execution_count": null,
      "outputs": []
    },
    {
      "cell_type": "code",
      "source": [
        "base_dir_name = \"/content/drive/MyDrive/誘雷ドローン/１２月実験/bin-csv\""
      ],
      "metadata": {
        "id": "eTHEaLyMfgnT"
      },
      "execution_count": null,
      "outputs": []
    },
    {
      "cell_type": "code",
      "source": [
        "# DataFlash log Filename を集める\n",
        "os.chdir(base_dir_name)\n",
        "d_path = '*.bin'\n",
        "f_namelist1 = glob.glob(d_path)"
      ],
      "metadata": {
        "id": "RoahQEISf4e9"
      },
      "execution_count": null,
      "outputs": []
    },
    {
      "cell_type": "code",
      "source": [
        "# Logファイルのタイプの抽出\n",
        " ardupilot_log_file=f_namelist1[0]\n",
        " !cd  $base_dir_name\n",
        " !mavlogdump.py --show-types \"$ardupilot_log_file\""
      ],
      "metadata": {
        "colab": {
          "base_uri": "https://localhost:8080/"
        },
        "id": "iUJT0745EAU2",
        "outputId": "a7ceb335-05a2-463a-924a-17f3c7cefa93"
      },
      "execution_count": null,
      "outputs": [
        {
          "output_type": "stream",
          "name": "stdout",
          "text": [
            "DU32\n",
            "IMU\n",
            "GPS\n",
            "CMD\n",
            "PM\n",
            "UNIT\n",
            "SRTL\n",
            "FMT\n",
            "CTUN\n",
            "MULT\n",
            "XKF1\n",
            "XKF3\n",
            "BAT\n",
            "XKQ\n",
            "XKV1\n",
            "MSG\n",
            "XKF2\n",
            "EV\n",
            "POWR\n",
            "PSCN\n",
            "XKFS\n",
            "GPA\n",
            "MAG\n",
            "XKF4\n",
            "XKY1\n",
            "XKT\n",
            "BARO\n",
            "POS\n",
            "RCI2\n",
            "RATE\n",
            "ORGN\n",
            "PSCD\n",
            "ARM\n",
            "RCOU\n",
            "TERR\n",
            "PARM\n",
            "MODE\n",
            "RCIN\n",
            "VIBE\n",
            "HEAT\n",
            "AUXF\n",
            "CAND\n",
            "FMTU\n",
            "XKF5\n",
            "XKV2\n",
            "FTN\n",
            "MAV\n",
            "IOMC\n",
            "DSF\n",
            "PSCE\n",
            "XKY0\n",
            "AHR2\n",
            "CTRL\n",
            "TSYN\n",
            "D32\n",
            "MOTB\n",
            "ATT\n"
          ]
        }
      ]
    },
    {
      "cell_type": "code",
      "source": [
        "# Logファイルのタイプの選択\n",
        "#LogItemList=[\"PARM\",\"EV\",\"ERR\",\"ARM\",\"ATT\",\"BAT\",\"CMD\",\"GPS\",\"PSCD\",\"PSCE\",\"PSCN\",\"RCOU\",\"XKF1\",\"IMU\",\"MAG\",\"BARO\"]\n",
        "#LogItemList=[\"AHR2\"]\n",
        "#LogItemList=[\"MODE\"]\n",
        "LogItemList=[\"XKQ\"]\n",
        "\n",
        "#for logtype in enumerate(LogItemList):\n",
        "#  print(logtype)"
      ],
      "metadata": {
        "id": "NpBmLAMgbh3y"
      },
      "execution_count": null,
      "outputs": []
    },
    {
      "cell_type": "code",
      "source": [
        "# Event Log IDの読み込み　EV で使用\n",
        "EV_id=pd.read_csv('EV_id.csv',header=0)\n",
        "EV_id.Event[EV_id.ID==10]"
      ],
      "metadata": {
        "colab": {
          "base_uri": "https://localhost:8080/"
        },
        "id": "vRjBTcERrE1Q",
        "outputId": "8ca72e49-19eb-4464-8081-e0bb143ecb0a"
      },
      "execution_count": null,
      "outputs": [
        {
          "output_type": "execute_result",
          "data": {
            "text/plain": [
              "3    ARMED\n",
              "Name: Event, dtype: object"
            ]
          },
          "metadata": {},
          "execution_count": 7
        }
      ]
    },
    {
      "cell_type": "code",
      "source": [
        "# Ardupilotのログ変換\n",
        "for i,ardupilot_log_file in enumerate(f_namelist1):\n",
        "  for j,Log_type in enumerate(LogItemList):\n",
        "    !cd  $base_dir_name && mavlogdump.py --type \"$Log_type\"  --format csv \"$ardupilot_log_file\" > \"$ardupilot_log_file\"\".\"\"$Log_type\"\".csv\""
      ],
      "metadata": {
        "id": "lUvi6GDEh431"
      },
      "execution_count": null,
      "outputs": []
    },
    {
      "cell_type": "code",
      "source": [],
      "metadata": {
        "id": "OcUGkm6mDlj_"
      },
      "execution_count": null,
      "outputs": []
    }
  ]
}